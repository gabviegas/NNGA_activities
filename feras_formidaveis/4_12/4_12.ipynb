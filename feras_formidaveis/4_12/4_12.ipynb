{
 "cells": [
  {
   "cell_type": "markdown",
   "id": "72400e86",
   "metadata": {},
   "source": [
    "# Fera formidável 4.12: Novos palíndromos\n",
    "\n",
    "**Autores:** Gabriel Viégas Ribeiro\n",
    "\n",
    "**Objetivo:**  Encontre pelo menos 10 palíndromos diferentes de 5 letras. Estes palíndromos devem ter pelo menos uma vogal. Não é necessário que eles formem palavras válidas em português ou qualquer outro idioma. O código deve de alguma forma gerar os 10 palíndromos diferentes, mas ninguém disse que eles devem ser encontrados na mesma evolução de um algoritmo genético. Quem sabe evoluir um algoritmo mais de uma vez possa ser uma estratégia válida.\n"
   ]
  },
  {
   "cell_type": "markdown",
   "id": "010ddd2f",
   "metadata": {},
   "source": [
    "**Resolução:**"
   ]
  },
  {
   "cell_type": "markdown",
   "id": "50e93aa0",
   "metadata": {},
   "source": [
    "Para essa atividade, fiz modificações significativas apenas na função objetivo e adicionei uma função de mutação específica para esse problema.\n",
    "\n",
    "1. Função objetivo: a função objetivo palíndromo (que pode ser vista a seguir) recebe o candidato e verifica o quão distante esse candidato está de ser um palíndromo, pegando letra a letra o candidato e verificando a distância para as letras do candidato ao contrário. Essa função também pune candidatos que não tem vogais, impedindo-os de serem considerados palíndromos, além de punir severamente candidatos em que todas as letras são iguais, uma vez que igualmente não são palíndromos.\n",
    "\n",
    "  **def funcao_objetivo_palindromo(candidato):**\n",
    "\n",
    "      \"\"\"Computa a funcao objetivo de um candidato palindrômico\n",
    "\n",
    "      Args:\n",
    "        candidato: um possível palíndromo\n",
    "      \"\"\"\n",
    "\n",
    "      distancia = 0\n",
    "\n",
    "      candidato_set = set(candidato)\n",
    "      vogais = set('aeiou')\n",
    "\n",
    "      if candidato_set.intersection(vogais) == set(): distancia += 1\n",
    "      if len(candidato_set) == 1: distancia += 10\n",
    "\n",
    "      for letra_indo, letra_voltando in zip(candidato, candidato[::-1]):\n",
    "          num_letra_candidato = ord(letra_indo)\n",
    "          num_letra_senha = ord(letra_voltando)\n",
    "          distancia += abs(num_letra_candidato - num_letra_senha)\n",
    "\n",
    "      return distancia\n",
    "\n",
    "2. Mutação simples palindrômica: nessa função de mutação (observável abaixo) reduzi as possibilidades de mutação para apenas as letras já presentes no candidato, favorecendo palíndromos na mutação.\n",
    "\n",
    "**def mutacao_simples_palindromica(populacao, chance_de_mutacao):**\n",
    "\n",
    "    \"\"\"Realiza mutação simples palindrômica\n",
    "\n",
    "    Args:\n",
    "      populacao: lista contendo os indivíduos do problema\n",
    "      chance_de_mutacao: float entre 0 e 1 representando a chance de mutação\n",
    "\n",
    "    \"\"\"\n",
    "    for individuo in populacao:\n",
    "        valores_possiveis = individuo\n",
    "        if random.random() < chance_de_mutacao:\n",
    "            gene = random.randint(0, len(individuo) - 1)\n",
    "            valor_gene = individuo[gene]\n",
    "            valores_sorteio = set(valores_possiveis) - set([valor_gene])\n",
    "            individuo[gene] = random.choice(list(valores_possiveis))\n",
    "\n",
    "Assim, passemos à resolução do problema. Temos as importações relevantes:"
   ]
  },
  {
   "cell_type": "code",
   "execution_count": 1,
   "id": "85e39531",
   "metadata": {},
   "outputs": [],
   "source": [
    "from funcoes_fera_4_12 import populacao_palindromica as cria_populacao\n",
    "from funcoes_fera_4_12 import funcao_obj_pop_palindromos as funcao_objetivo\n",
    "from funcoes_fera_4_12 import selecao_torneio_min as funcao_selecao\n",
    "from funcoes_fera_4_12 import cruzamento_ponto_simples as funcao_cruzamento\n",
    "from funcoes_fera_4_12 import mutacao_simples_palindromica as funcao_mutacao1\n",
    "from funcoes_fera_4_12 import mutacao_salto as funcao_mutacao2\n",
    "from string import ascii_lowercase"
   ]
  },
  {
   "cell_type": "markdown",
   "id": "cbe249b1",
   "metadata": {},
   "source": [
    "A definição das constantes relevantes ao problema:"
   ]
  },
  {
   "cell_type": "code",
   "execution_count": 2,
   "id": "22eebac1",
   "metadata": {},
   "outputs": [],
   "source": [
    "CARACTERES_POSSIVEIS = ascii_lowercase\n",
    "TAMANHO_PALINDROMO = 5\n",
    "TAMANHO_POPULACAO = 10\n",
    "CHANCE_DE_CRUZAMENTO = 0.5\n",
    "CHANCE_DE_MUTACAO = 0.025\n",
    "TAMANHO_TORNEIO = 3"
   ]
  },
  {
   "cell_type": "markdown",
   "id": "df2d0048",
   "metadata": {},
   "source": [
    "E, por fim, o loop do algoritmo genético. Decidi que, ao invés de modificar o algoritmo para obter 10 palíndromos, o evoluiria 10 vezes, adicionando os palíndromos achados em uma lista separada. Abaixo, a evolução:"
   ]
  },
  {
   "cell_type": "code",
   "execution_count": 3,
   "id": "4e97476c",
   "metadata": {},
   "outputs": [
    {
     "name": "stdout",
     "output_type": "stream",
     "text": [
      "1 26 62 gmomg\n",
      "1 11 12 17 suqus\n",
      "1 13 14 20 tiait\n",
      "1 2 4 27 fmemf\n",
      "1 3 9 28 zfifz\n",
      "1 11 19 39 42 pxuxp\n",
      "1 2 3 54 ojnjo\n",
      "1 3 emlme\n",
      "1 8 9 10 23 32 iwiwi\n",
      "1 4 12 25 tkekt\n"
     ]
    }
   ],
   "source": [
    "palindromos = []\n",
    "while len(palindromos) != 10:\n",
    "    \n",
    "    # Definição fora do algoritmo\n",
    "    populacao = cria_populacao(TAMANHO_POPULACAO, TAMANHO_PALINDROMO, CARACTERES_POSSIVEIS)\n",
    "    menor_fitness_geral = float(\"inf\")\n",
    "    geracao = 0\n",
    "\n",
    "    while menor_fitness_geral != 0:    \n",
    "        # Seleção\n",
    "        fitness = funcao_objetivo(populacao)        \n",
    "        selecionados = funcao_selecao(populacao, fitness, TAMANHO_TORNEIO)\n",
    "        \n",
    "        # Cruzamento\n",
    "        proxima_geracao = []\n",
    "        for pai, mae in zip(selecionados[::2], selecionados[1::2]):\n",
    "            individuo1, individuo2 = funcao_cruzamento(pai, mae, CHANCE_DE_CRUZAMENTO)\n",
    "            proxima_geracao.append(individuo1)\n",
    "            proxima_geracao.append(individuo2)\n",
    "        \n",
    "        # Mutação\n",
    "        funcao_mutacao1(proxima_geracao, CHANCE_DE_MUTACAO)\n",
    "        funcao_mutacao2(proxima_geracao, CHANCE_DE_MUTACAO, list(CARACTERES_POSSIVEIS))\n",
    "\n",
    "        # Encerramento\n",
    "        populacao = proxima_geracao\n",
    "        geracao += 1\n",
    "        \n",
    "        fitness = funcao_objetivo(populacao)\n",
    "        menor_fitness_observado = min(fitness)\n",
    "        \n",
    "        if menor_fitness_observado < menor_fitness_geral:\n",
    "            menor_fitness_geral = menor_fitness_observado\n",
    "            indice = fitness.index(menor_fitness_observado)\n",
    "            candidato = populacao[indice]\n",
    "            print(geracao, end=' ')\n",
    "    \n",
    "    # Palíndromos\n",
    "    palindromos.append(''.join(candidato))\n",
    "    print(''.join(candidato), end='\\n')"
   ]
  },
  {
   "cell_type": "markdown",
   "id": "7e7573ba",
   "metadata": {},
   "source": [
    "Obtivemos, portanto, os seguintes palíndromos:"
   ]
  },
  {
   "cell_type": "code",
   "execution_count": 4,
   "id": "1fb20c13",
   "metadata": {},
   "outputs": [
    {
     "name": "stdout",
     "output_type": "stream",
     "text": [
      "Palíndromos achados: gmomg suqus tiait fmemf zfifz pxuxp ojnjo emlme iwiwi tkekt\n"
     ]
    }
   ],
   "source": [
    "print('Palíndromos achados:', *palindromos)"
   ]
  },
  {
   "cell_type": "markdown",
   "id": "7f09e4fc",
   "metadata": {},
   "source": [
    "**Conclusões:**\n",
    "\n",
    "Nesse trabalho, foi possível modificar o código pré-existente do algoritmo genético utilizado no problema da senha para achar palíndromos de cinco letras com pelo menos uma vogal. Consegui aplicar uma nova função de mutação e a convergência foi razoável. "
   ]
  }
 ],
 "metadata": {
  "kernelspec": {
   "display_name": "Python 3",
   "language": "python",
   "name": "python3"
  },
  "language_info": {
   "codemirror_mode": {
    "name": "ipython",
    "version": 3
   },
   "file_extension": ".py",
   "mimetype": "text/x-python",
   "name": "python",
   "nbconvert_exporter": "python",
   "pygments_lexer": "ipython3",
   "version": "3.11.6"
  }
 },
 "nbformat": 4,
 "nbformat_minor": 5
}
