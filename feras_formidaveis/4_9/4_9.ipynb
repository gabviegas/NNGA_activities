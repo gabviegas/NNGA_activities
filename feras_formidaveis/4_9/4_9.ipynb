{
 "cells": [
  {
   "cell_type": "markdown",
   "metadata": {},
   "source": [
    "# 4.9 A senha de tamanho variável\n",
    "\n",
    "**Objetivo:** Resolver o problema da senha de forma que você não forneça a informação do tamanho da senha para a função que gera a população. Considere que a senha pode ser uma string de 1 até 30 caracteres.\n",
    "\n",
    "**Dica:** A função objetivo terá que quantificar em sua métrica tanto se o candidato acertou as letras quanto se acertou o tamanho da senha.\n",
    "\n",
    "**Dica 2:** Você pode criar diferentes estratégias de mutação, não precisa ser apensa uma! Quem sabe uma função de mutação pode alterar letras e a outra pode alterar o tamanho da senha? Ver o exercício “Praticamente um X-man!”.\n",
    "\n",
    "**Dica 3:** Observe que você terá que pensar um pouco sobre como fará o cruzamento no caso de senhas de tamanhos diferentes. Quem sabe tenha que fazer alguma consideração adicional sobre quais são os valores possíveis para o ponto de corte…\n",
    "______________________________"
   ]
  },
  {
   "cell_type": "markdown",
   "metadata": {},
   "source": [
    "# Resolução"
   ]
  },
  {
   "cell_type": "markdown",
   "metadata": {},
   "source": [
    "Nossa estratégia de resolução se baseou em modificar 4 aspectos principais do *script* relacionado ao problema da senha, descritos a seguir:\n",
    "\n",
    "1. Criação da população: neste problema, modificamos a função que gera a população (`populacao_senha_s_tamanho`) para gerar populações com tamanhos diferentes de senha usando a função `random.randint` para definir o tamanho da senha.\n",
    "\n",
    "2. Função objetivo: mudamos a função objetivo para adicionar o valor da diferença entre a senha verdadeira como componente da distância que forma o fitness.\n",
    "\n",
    "3. Cruzamento: decidimos pelo cruzamento de ponto simples, e adicionamos a verificação para que o máximo do corte (`range`) seja escolhido com base no tamanho da menor senha. Colocamos ainda uma condicional que define que se o tamanho máximo for menor que um, não há cruzamento.\n",
    "\n",
    "4. Mutação: criamos uma nova função mutação baseada na mutação por salto que muta o tamanho da senha, aumentando ou diminuindo.\n",
    "\n",
    "Abaixo, as importações relevantes para o algoritmo:"
   ]
  },
  {
   "cell_type": "code",
   "execution_count": 2,
   "metadata": {},
   "outputs": [],
   "source": [
    "from string import ascii_lowercase, ascii_uppercase, digits\n",
    "\n",
    "from funcoes_fera_4_9 import populacao_senha_st as cria_populacao\n",
    "from funcoes_fera_4_9 import funcao_objetivo_pop_senha_st as funcao_objetivo\n",
    "from funcoes_fera_4_9 import selecao_torneio_min as funcao_selecao\n",
    "from funcoes_fera_4_9 import cruzamento_ponto_simples_st as funcao_cruzamento\n",
    "from funcoes_fera_4_9 import mutacao_salto as funcao_mutacao1\n",
    "from funcoes_fera_4_9 import mutacao_salto_tamanho as funcao_mutacao2"
   ]
  },
  {
   "cell_type": "markdown",
   "metadata": {},
   "source": [
    "Definimos nossa senha e as variáveis globais relevantes ao problema:"
   ]
  },
  {
   "cell_type": "code",
   "execution_count": 5,
   "metadata": {},
   "outputs": [],
   "source": [
    "SENHA = list(\"AmigurumiDeSapo2025\")\n",
    "CARACTERES_POSSIVEIS = ascii_lowercase + ascii_uppercase + digits\n",
    "TAMANHO_MAXIMO_SENHA = 30\n",
    "TAMANHO_POPULACAO = 100\n",
    "CHANCE_DE_CRUZAMENTO = 0.5\n",
    "CHANCE_DE_MUTACAO = 0.025\n",
    "TAMANHO_TORNEIO = 3"
   ]
  },
  {
   "cell_type": "markdown",
   "metadata": {},
   "source": [
    "Criamos uma população a partir da quantidade de indivíduos estabelecidos anteriormente. Mostramos também os três primeiros indivíduos dessa população:"
   ]
  },
  {
   "cell_type": "code",
   "execution_count": null,
   "metadata": {},
   "outputs": [
    {
     "name": "stdout",
     "output_type": "stream",
     "text": [
      "[['u', 'm', 'x', 'q', 'p', 'x', 'Q', '0', 'P', '2', 'o', 'K', 'T', 'h', 'Q'], ['6', '8', 'k'], ['P']]\n"
     ]
    }
   ],
   "source": [
    "populacao = cria_populacao(TAMANHO_POPULACAO, TAMANHO_MAXIMO_SENHA, CARACTERES_POSSIVEIS)\n",
    "print(populacao[:3])"
   ]
  },
  {
   "cell_type": "markdown",
   "metadata": {},
   "source": [
    "Perceba que há, na população acima, senhas de vários tamanhos. Nossa população é heterogênea, e será ajustada pelo algoritmo a seguir:"
   ]
  },
  {
   "cell_type": "code",
   "execution_count": 8,
   "metadata": {},
   "outputs": [
    {
     "name": "stdout",
     "output_type": "stream",
     "text": [
      "1 8\n",
      "8 E\n",
      "11 D\n",
      "37 B\n",
      "82 A\n",
      "138 Ani\n",
      "146 Ami\n",
      "211 Amig\n",
      "219 Amigu\n",
      "278 Amigur\n",
      "327 Amiguru\n",
      "389 Amigurum\n",
      "401 Amigurumi\n",
      "464 AmigurumiD\n",
      "473 AmigurumiDe\n",
      "555 AmigurumiDeS\n",
      "569 AmigurumiDeSa\n",
      "592 AmigurumiDeSap\n",
      "757 AmigurumiDeSapo\n",
      "787 AmigurumiDeSapo2\n",
      "799 AmigurumiDeSapo20\n",
      "912 AmigurumiDeSapo202\n",
      "925 AmigurumiDeSapo2025\n"
     ]
    }
   ],
   "source": [
    "menor_fitness_geral = float(\"inf\")\n",
    "geracao = 0\n",
    "\n",
    "while menor_fitness_geral != 0:\n",
    "\n",
    "    # Seleção\n",
    "    fitness = funcao_objetivo(populacao, SENHA)\n",
    "    selecionados = funcao_selecao(populacao, fitness, TAMANHO_TORNEIO)\n",
    "\n",
    "    # Cruzamento\n",
    "    proxima_geracao = []\n",
    "    for pai, mae in zip(selecionados[::2], selecionados[1::2]):\n",
    "        individuo1, individuo2 = funcao_cruzamento(pai, mae, CHANCE_DE_CRUZAMENTO)\n",
    "        proxima_geracao.append(individuo1)\n",
    "        proxima_geracao.append(individuo2)\n",
    "\n",
    "    # Mutação\n",
    "    funcao_mutacao1(proxima_geracao, CHANCE_DE_MUTACAO, list(CARACTERES_POSSIVEIS))\n",
    "    funcao_mutacao2(proxima_geracao, CHANCE_DE_MUTACAO, list(CARACTERES_POSSIVEIS))\n",
    "\n",
    "    # Encerramento\n",
    "    populacao = proxima_geracao\n",
    "    geracao += 1\n",
    "\n",
    "    fitness = funcao_objetivo(populacao, SENHA)\n",
    "    menor_fitness_observado = min(fitness)\n",
    "\n",
    "    if menor_fitness_observado < menor_fitness_geral:\n",
    "        menor_fitness_geral = menor_fitness_observado\n",
    "        indice = fitness.index(menor_fitness_observado)\n",
    "        candidato = populacao[indice]\n",
    "        print(geracao, \"\".join(candidato))"
   ]
  },
  {
   "cell_type": "markdown",
   "metadata": {},
   "source": [
    "Chegamos em nossa senha definida em 925 gerações! Um número razoável para um problema com um universo de possibilidade maior que $10^7$.\n",
    "\n",
    "## Considerações finais:\n",
    "\n",
    "Neste problema, evoluímos um algoritmo genético cujo objetivo era descobrir uma \"senha\" previamente informada, mas sem saber seu tamanho exato. Fizemos modificações em funções previamente conhecidas de população, *fitness*, mutação e cruzamento.\n",
    "\n",
    "Da maneira que calculamos o *fitness* e realizamos o cruzamento, em um primeiro momento é natural que a melhor senha tenha 1 caractere, uma vez que sua distância da senha verdadeira será menor. Apesar dessa limitação, o algoritmo é capaz de convergir e não parece diminuir a quantidade de caracteres enquanto não acha o tamanho verdadeiro.\n",
    "\n",
    "Pode-se dizer que o algoritmo é efetivo para o problema, e que não saber a senha não aumentou muito as gerações até a convergência."
   ]
  }
 ],
 "metadata": {
  "kernelspec": {
   "display_name": "Python 3",
   "language": "python",
   "name": "python3"
  },
  "language_info": {
   "codemirror_mode": {
    "name": "ipython",
    "version": 3
   },
   "file_extension": ".py",
   "mimetype": "text/x-python",
   "name": "python",
   "nbconvert_exporter": "python",
   "pygments_lexer": "ipython3",
   "version": "3.11.6"
  }
 },
 "nbformat": 4,
 "nbformat_minor": 2
}
