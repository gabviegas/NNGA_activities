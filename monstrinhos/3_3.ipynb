{
 "cells": [
  {
   "cell_type": "markdown",
   "metadata": {},
   "source": [
    "# Monstrinho 3: Classes em Python não pagam imposto sobre herança\n",
    "\n",
    "**Objetivo:** Modele algum conceito científico utilizando herança de classes.\n",
    "\n",
    "**Considerações do experimento:**  O uso da herança de classes deve fazer sentido dentro do contexto científico escolhido, isto é, deve haver uma justificativa bem embasada para o uso de herança de classes na sua entrega. Certifique-se que a classe mãe tem pelo menos um método que não seja dunder para ser herdado pela classe filha. Garanta que a classe filha tem pelo menos um método (dunder ou não) que justifique a sua criação."
   ]
  },
  {
   "cell_type": "markdown",
   "metadata": {},
   "source": [
    "**Resolução:**"
   ]
  },
  {
   "cell_type": "markdown",
   "metadata": {},
   "source": [
    "O uso de classes para a verificação de taxonomia de várias espécies é muito interessante. Dentre os organismos que podem ser modelados dessa maneira, os vírus são interessantes por apresentar características genômicas que tem relevância de cálculo, como a taxa de mutação por infecção em hospedeiros e suas capacidades de reparação gênica.\n",
    "\n",
    "Sabe-se que há uma ampla gama de tipos virais [1], mas, para os objetivos dessa tarefa, decidiu-se focar em caracterizar os vírus entre \"ssRNA\" (vírus de RNA de fita simples), \"dsRNA\" (vírus de RNA de fita dupla), \"ssDNA\" (vírus de DNA de fita simples) e \"dsDNA\" (vírus de DNA de fita dupla). A superclasse foi definida como ``Virus``, e tem como métodos:\n",
    "- ``__init__(self, sequence: str, genetic_material: str, name = \"Desconhecido\", host = \"Desconhecido\")``: inicia a instância com os atributos da sequência de nucleotídeos, o tipo de material genético e, opcionalmente, o nome e o hospedeiro do vírus. Além disso, nessa classe, é instanciado o atributo de tamanho do genoma (``self.size``), o número de mutações (``self.number_mutations``) e a última sequência antes de alguma mutação (``self.old_sequence``).\n",
    "- ``__repr__``: define o que vai ser printado.\n",
    "- ``__check_genetics__(self, genetic_material)``: método ``__dunder__`` que checa se o material genético informado está entre os aceitos. É chamado na inicialização da classe, e joga uma exceção quando o material informado não se adequa.\n",
    "- ``__format_seq__(self, sequence)``: formata a sequência informada para obedecer ao padrão pré-definido de letras maiúsculas e a presença do nucleotídeo \"U\" (uracila) caso o vírus seja de RNA.\n",
    "- ``infection(self, weight=(1-0.0001, 0.0001))``: método que representa uma infecção do vírus em seu hospedeiro. O peso está relacionado com a probabilidade de ocorrer mutação na infecção, e seu valor padrão é a média encontrada no artigo [2] para vírus de DNA e RNA.\n",
    "- ``mutate``: método que representa uma mutação ocorrida no genoma do vírus. Os pesos atribuídos são referentes à probabilidade de ocorrer uma translocação/inversão (aqui admitidas como tendo mesma probabilidade, apesar de não necessariamente representar a realidade) ou um inserção/deleção. A probabilidade foi retirada de [2]."
   ]
  },
  {
   "cell_type": "code",
   "execution_count": 10,
   "metadata": {},
   "outputs": [],
   "source": [
    "from random import choices # importação da biblioteca choices"
   ]
  },
  {
   "cell_type": "code",
   "execution_count": 11,
   "metadata": {},
   "outputs": [],
   "source": [
    "class Virus:\n",
    "    \"\"\"\n",
    "    Instancia um objeto na classe Vírus, com o método principal \"mutate()\", que modifica seu material genético.\n",
    "    \"\"\"\n",
    "\n",
    "    def __init__(self, sequence: str, genetic_material: str, name = \"Desconhecido\", host = \"Desconhecido\"):\n",
    "        \n",
    "        # Checa se o material genético está entre os aceitos pela classe. Se não estiver, joga uma exceção.\n",
    "        self.__check_genetics__(genetic_material.replace(\" \", \"\").lower())\n",
    "\n",
    "        # Definição dos atributos mais simples do vírus\n",
    "        self.name = name # Nome do vírus\n",
    "        self.genetic_material = genetic_material.replace(\" \", \"\").lower() # ssDNA, dsDNA, ssRNA, dsRNA\n",
    "        self.host = host # Hospedeiro do vírus\n",
    "        self.sequence = self.__format_seq__(sequence) # Sequência de nucleotídeos\n",
    "        self.size = len(self.sequence) # Tamanho da sequência viral\n",
    "\n",
    "        # Atributos que fazem sentido com o método mutate() abaixo.\n",
    "        self.number_mutations = 0 # Número de mutações que o objeto já passou.\n",
    "        self.old_sequence = self.sequence # Sequência no momento da instância\n",
    "    \n",
    "    def __repr__(self):\n",
    "        genetics = {\n",
    "            \"dsdna\" : \"DNA de fita dupla\",\n",
    "            \"ssdna\": \"DNA de fita simples\",\n",
    "            \"dsrna\": \"RNA de fita dupla\",\n",
    "            \"ssrna\" : \"RNA de fita simples\"\n",
    "        }\n",
    "\n",
    "        return f\"Vírus {self.name} com material genético {genetics[self.genetic_material]} e {self.size} bases pareadas.\"\n",
    "    \n",
    "    def __check_genetics__(self, genetic_material):\n",
    "        if genetic_material in [\"ssdna\", \"dsdna\", \"ssrna\", \"dsrna\"]:\n",
    "            return\n",
    "        else: raise ValueError(\"The accepted values are 'ssDNA', 'dsDNA', 'ssRNA', 'dsRNA'.\")\n",
    "        \n",
    "    def __format_seq__(self, sequence):\n",
    "        seq = sequence.replace(\" \", \"\").replace(\"\\n\", \"\").replace(\"\\t\", \"\").upper()\n",
    "\n",
    "        if self.genetic_material.find(\"DNA\") != -1:\n",
    "            seq = seq.replace(\"U\", \"T\")\n",
    "        else:\n",
    "            seq = seq.replace(\"T\", \"U\")\n",
    "\n",
    "        return seq\n",
    "\n",
    "    def infection(self, weight=(1-0.0001, 0.0001)):\n",
    "        mutation = \"\"\n",
    "        mutation_chance = choices([0,1], weight)\n",
    "\n",
    "        if mutation_chance == 1:\n",
    "            self.mutate()\n",
    "            mutation += \" Houve uma mutação.\"\n",
    "        else:\n",
    "            pass\n",
    "\n",
    "        return f\"O vírus infectou o hospedeiro {self.host}.{mutation}\"\n",
    "\n",
    "\n",
    "    def mutate(self):\n",
    "        self.old_sequence = self.sequence # Sequência antes da mutação\n",
    "        self.number_mutations += 1\n",
    "\n",
    "        index_mutation = choices([i for i in range(0, self.size-1)])\n",
    "        mut_nucleotide = self.sequence[index_mutation]\n",
    "\n",
    "        if self.genetic_material.find(\"dna\") != -1:\n",
    "            possible_nucleotides = [\"A\", \"T\", \"G\", \"C\"]\n",
    "            possible_nucleotides.remove(mut_nucleotide)\n",
    "            possible_nucleotides = possible_nucleotides + [\"\"]\n",
    "\n",
    "            mut = choices(possible_nucleotides, weights=(8/30, 8/30, 8/30, 6/30))\n",
    "\n",
    "        elif self.genetic_material.find(\"rna\") != -1:\n",
    "            possible_nucleotides = [\"A\", \"U\", \"G\", \"C\"]\n",
    "            possible_nucleotides.remove(mut_nucleotide)\n",
    "            possible_nucleotides = possible_nucleotides + [\"\"]\n",
    "\n",
    "            mut = choices(possible_nucleotides, weights=(8/30, 8/30, 8/30, 6/30))\n",
    "\n",
    "        self.sequence = self.sequence[:index_mutation] \n",
    "        + mut \n",
    "        + self.sequence[choices([index_mutation+1, index_mutation], weights=(24/30, 6/30)):]\n",
    "\n",
    "        self.size = len(self.sequence)\n",
    "        \n",
    "        return self.sequence, index_mutation"
   ]
  },
  {
   "cell_type": "markdown",
   "metadata": {},
   "source": [
    "A subclasse foi definida como ``DNAVirus``, e se refere especificamente a esse tipo de vírus. Todos os atributos da superclasse se aplicam, além do novo ``number_repairs``, que vai indicar a quantidade de reparos que o vírus passou. Além dos métodos herdados, modificou-se os métodos ``__check_genetics__`` e ``infection``, além de definir o método ``genetic_repair``.\n",
    "- ``__check_genetics__(self, genetic_material)``: modificou-se para aceitar apenas \"ssDNA\" e \"dsDNA\" como materiais genéticos.\n",
    "- ``infection``: a mudança ocorrida nesse método foi a adição da possibilidade de ocorrer um reparo no genoma do vírus e a diminuição da probabilidade de ocorrer uma mutação no genoma, obtida em [2].\n",
    "- ``genetic_repair``: método que representa o retorno à sequência anterior à última mutação, representando o mecanismo de reparo presente em vírus de DNA."
   ]
  },
  {
   "cell_type": "code",
   "execution_count": 6,
   "metadata": {},
   "outputs": [],
   "source": [
    "class DNAVirus(Virus):\n",
    "    def __init__(self, sequence: str, genetic_material: str, name = \"Desconhecido\", host = \"Desconhecido\") -> None:\n",
    "\n",
    "        # Checa se o material genético está entre os aceitos pela classe. Se não estiver, joga uma exceção.\n",
    "        self.__check_genetics__(genetic_material.replace(\" \", \"\").lower())\n",
    "\n",
    "        # Inicia a classe Virus\n",
    "        super().__init__(sequence, genetic_material, name, host)\n",
    "\n",
    "        self.number_repairs = 0 # Números de reparos genéticos.\n",
    "    \n",
    "    def __check_genetics__(self, genetic_material):\n",
    "        if genetic_material in [\"ssdna\", \"dsdna\"]:\n",
    "            return\n",
    "        else: raise ValueError(\"The accepted values are 'ssDNA', 'dsDNA'.\")\n",
    "    \n",
    "    def infection(self):\n",
    "        infect = super().infection(weight=(1-0.0000001, 0.0000001))\n",
    "        repair = \"\"\n",
    "\n",
    "        if infect.find(\"Houve uma mutação.\") != -1:\n",
    "\n",
    "            repair_chance = choices([0,1])\n",
    "            if repair_chance == 1:\n",
    "                self.genetic_repair()\n",
    "                repair += \" Houve um reparo.\"\n",
    "\n",
    "            else:\n",
    "                pass\n",
    "\n",
    "        return f\"{infect}{repair}\"\n",
    "\n",
    "    def genetic_repair(self):\n",
    "\n",
    "        \"\"\"\n",
    "        Repara a última mutação.\n",
    "        \"\"\"\n",
    "        self.number_repairs += 1\n",
    "        self.sequence = self.old_sequence\n",
    "\n",
    "        return self.sequence"
   ]
  },
  {
   "cell_type": "markdown",
   "metadata": {},
   "source": [
    "Nessa atividade, foi possível compreender como trabalhar o conceito de herança. Gostei de conseguir aplicar a um conceito cientifico de meu interesse, e possivelmente poderei ampliar esse código. Para além da disciplina de RNAG, pude ainda aprender um pouco mais sobre replicação e mutação de vírus, o que é bem interessante. Foi ótimo!"
   ]
  },
  {
   "cell_type": "markdown",
   "metadata": {},
   "source": [
    "**Referências:**\n",
    "\n",
    "[1] GELDERBLOM, Hans R. Structure and Classification of Viruses. In: BARON, Samuel (Org.). Medical Microbiology. 4th. ed. Galveston (TX): University of Texas Medical Branch at Galveston, 1996. Disponível em: <http://www.ncbi.nlm.nih.gov/books/NBK8174/>. Acesso em: 15 mar. 2025.\n",
    "\n",
    "[2] SANJUÁN, Rafael; NEBOT, Miguel R.; CHIRICO, Nicola; et al. Viral Mutation Rates. Journal of Virology, v. 84, n. 19, p. 9733–9748, 2010. Disponível em: <https://www.ncbi.nlm.nih.gov/pmc/articles/PMC2937809/>. Acesso em: 15 mar. 2025."
   ]
  }
 ],
 "metadata": {
  "kernelspec": {
   "display_name": "Python 3",
   "language": "python",
   "name": "python3"
  },
  "language_info": {
   "codemirror_mode": {
    "name": "ipython",
    "version": 3
   },
   "file_extension": ".py",
   "mimetype": "text/x-python",
   "name": "python",
   "nbconvert_exporter": "python",
   "pygments_lexer": "ipython3",
   "version": "3.11.6"
  }
 },
 "nbformat": 4,
 "nbformat_minor": 2
}
