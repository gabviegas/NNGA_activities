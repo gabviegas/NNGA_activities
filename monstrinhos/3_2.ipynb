{
 "cells": [
  {
   "cell_type": "markdown",
   "metadata": {},
   "source": [
    "# Monstrinho 2: \"Átomos não são bolinhas e ligações químicas não são pauzinhos” — Prof. Julio\n",
    "\n",
    "**Objetivo:** Utilize classes de Python para modelar elementos químicos e moléculas.\n",
    "\n",
    "**Considerações do experimento:** Crie uma classe chamada ``Elemento``. Todo elemento químico utilizado nesta tarefa deve ser uma instância desta classe. Toda instância da classe ``Elemento`` deve ter os seguintes atributos: símbolo do elemento, número atômico do elemento e peso atômico do elemento (fique à vontade para incluir outras informações se quiser). Crie uma classe chamada ``Molecula``. Esta classe deve receber um dicionário onde as chaves representam os elementos e os valores representam a quantidade do respectivo elemento. A classe ``Molecula`` deve ter um método capaz de exibir o peso atômico da molécula criada e um método capaz gerar uma fórmula química (em *string*) para esta molécula.\n",
    "\n",
    "**Observação:** não é necessário que a fórmula química siga as regras oficiais da química, basta representar os elementos existentes e suas quantidades."
   ]
  },
  {
   "cell_type": "markdown",
   "metadata": {},
   "source": [
    "**Resolução:**\n",
    "\n",
    "Para a classe ``Elemento``, resolvi que o objeto receberia o nome, o símbolo e o número atômico do elemento químico."
   ]
  },
  {
   "cell_type": "code",
   "execution_count": 1,
   "metadata": {},
   "outputs": [],
   "source": [
    "class Elemento:\n",
    "    \"\"\"Define um elemento químico.\"\"\"\n",
    "\n",
    "    def __init__(self, name: str, symbol: str, atomic_number: int, atomic_weight: float):\n",
    "        self.name = name\n",
    "        self.symbol = symbol\n",
    "        self.number = atomic_number\n",
    "        self.weight = atomic_weight\n",
    "    \n",
    "    def __repr__(self):\n",
    "        return f\"O elemento {self.name}, representado como {self.symbol}, com o número atômico {self.number} e {self.weight} u.\""
   ]
  },
  {
   "cell_type": "markdown",
   "metadata": {},
   "source": [
    "Para realizar o teste de conceito, defini três elementos químicos e verifiquei a presença dos atributos da classe."
   ]
  },
  {
   "cell_type": "code",
   "execution_count": 2,
   "metadata": {},
   "outputs": [
    {
     "name": "stdout",
     "output_type": "stream",
     "text": [
      "O elemento Hidrogênio, representado como H, com o número atômico 1 e 1.00784 u.\n",
      "O\n",
      "O elemento Enxofre tem 32.065 u\n"
     ]
    }
   ],
   "source": [
    "hydrogen = Elemento(**{\n",
    "    \"name\" : \"Hidrogênio\",\n",
    "    \"symbol\": \"H\",\n",
    "    \"atomic_number\" : 1,\n",
    "    \"atomic_weight\" : 1.00784\n",
    "})\n",
    "\n",
    "oxygen = Elemento(**{\n",
    "    \"name\" : \"Oxigênio\",\n",
    "    \"symbol\" : \"O\",\n",
    "    \"atomic_number\" : 8,\n",
    "    \"atomic_weight\" : 15.999\n",
    "})\n",
    "\n",
    "sulfur = Elemento(**{\n",
    "    \"name\" : \"Enxofre\",\n",
    "    \"symbol\" : \"S\",\n",
    "    \"atomic_number\" : 16,\n",
    "    \"atomic_weight\" : 32.065\n",
    "})\n",
    "\n",
    "print(hydrogen)\n",
    "print(oxygen.symbol)\n",
    "print(f\"O elemento {sulfur.name} tem {sulfur.weight} u\")"
   ]
  },
  {
   "cell_type": "markdown",
   "metadata": {},
   "source": [
    "A classe ``Molecula`` recebe um dicionário com chaves do tipo `Elemento` e valores são as quantidades desses na molécula. Definiu-se os métodos `peso_atomico` e `formula_quimica` para, respectivamente, mostrar o peso e a fórmula química da molécula."
   ]
  },
  {
   "cell_type": "code",
   "execution_count": null,
   "metadata": {},
   "outputs": [],
   "source": [
    "class Molecula:\n",
    "    \"\"\"Montar uma molécula a partir de elementos químicos e suas quantidades. \n",
    "    O dicionário deve ter chaves da classe Elemento, e os valores devem ser a quantidade destes na molécula.\"\"\"\n",
    "\n",
    "    def __init__(self, molecules: dict[Elemento : int]):\n",
    "        self.molecules = molecules\n",
    "\n",
    "    def __repr__(self):\n",
    "        return f\"A molécula {self.molecule}, com peso atômico de {self.weight} u.\"\n",
    "    \n",
    "    def peso_atomico(self):\n",
    "        self.weight = 0\n",
    "        for element, quantity in self.molecules.items():\n",
    "            self.weight += element.weight*quantity\n",
    "        self.weight = round(self.weight, 5)\n",
    "        \n",
    "        print(f\"O peso atômico dessa molécula é {self.weight} u.\")\n",
    "\n",
    "    def formula_quimica(self):\n",
    "        self.molecule = \"\"\n",
    "        for element, quantity in self.molecules.items():\n",
    "            self.molecule = self.molecule + element.symbol + str(quantity)\n",
    "        \n",
    "        print(f\"A fórmula química dessa molécula é {self.molecule}\")"
   ]
  },
  {
   "cell_type": "markdown",
   "metadata": {},
   "source": [
    "Para teste de conceito, montei a molécula $H_2SO_4$."
   ]
  },
  {
   "cell_type": "code",
   "execution_count": 4,
   "metadata": {},
   "outputs": [
    {
     "name": "stdout",
     "output_type": "stream",
     "text": [
      "A fórmula química dessa molécula é H2S1O4\n",
      "O peso atômico dessa molécula é 98.07668 u.\n",
      "A molécula H2S1O4, com peso atômico de 98.07668 u.\n"
     ]
    }
   ],
   "source": [
    "h2so4 = Molecula({\n",
    "    hydrogen : 2,\n",
    "    sulfur : 1,\n",
    "    oxygen : 4\n",
    "})\n",
    "\n",
    "h2so4.formula_quimica()\n",
    "h2so4.peso_atomico()\n",
    "\n",
    "print(h2so4)"
   ]
  },
  {
   "cell_type": "markdown",
   "metadata": {},
   "source": [
    "Foi possível aplicar os conceitos de classe, mas não acredito que, a partir da escrita dessa atividade, consegui aplicar o princípio de herança. Entendi como os atributos e métodos são definidos, e como recuperar informações a partir dos objetos."
   ]
  }
 ],
 "metadata": {
  "kernelspec": {
   "display_name": "Python 3",
   "language": "python",
   "name": "python3"
  },
  "language_info": {
   "codemirror_mode": {
    "name": "ipython",
    "version": 3
   },
   "file_extension": ".py",
   "mimetype": "text/x-python",
   "name": "python",
   "nbconvert_exporter": "python",
   "pygments_lexer": "ipython3",
   "version": "3.11.6"
  }
 },
 "nbformat": 4,
 "nbformat_minor": 2
}
