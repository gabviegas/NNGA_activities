{
 "cells": [
  {
   "cell_type": "markdown",
   "metadata": {},
   "source": [
    "# Monstrinho 4: ``__dunder__``\n",
    "\n",
    "**Objetivo:**  Se informe sobre métodos dunder que não foram utilizados no material de aula e crie uma classe que contenha pelo menos 3 destes métodos dunder. Faça códigos onde cada um destes métodos dunder seja acessado sem os chamar explicitamente (exemplo: não é para rodar a.``__add__``(b) mas sim a + b para o caso do dunder ``__add__``\n",
    "\n",
    "**Considerações do experimento:**  A classe deve conter pelo menos 3 métodos dunder que não foram vistos no material da disciplina. Sua classe deve fazer sentido, isto é, não crie uma classe “sem pé nem cabeça” apenas para a entrega. Reflita sobre uma classe\n",
    "onde os métodos dunder propostos realmente fazem sentido. Na sua entrega, explique brevemente o que fazem os métodos dunder que escolheu e mostre eles em ação com uma instância da sua classe."
   ]
  },
  {
   "cell_type": "markdown",
   "metadata": {},
   "source": [
    "**Resolução:**\n",
    "\n",
    "Para essa atividade, resolvi definir a classe ``Vetor``, que pega um iterável, como uma lista ou uma tupla e o transforma em um vetor."
   ]
  },
  {
   "cell_type": "code",
   "execution_count": 1,
   "metadata": {},
   "outputs": [],
   "source": [
    "class Vetor:\n",
    "    \"\"\"Define um vetor a partir de um iterável\"\"\"\n",
    "\n",
    "    def __init__(self, lista_de_valores):\n",
    "\n",
    "        if type(lista_de_valores) == Vetor:\n",
    "            self.valores = lista_de_valores.valores\n",
    "\n",
    "        else:\n",
    "            try:\n",
    "                for i in lista_de_valores:\n",
    "                    float(i)\n",
    "            except Exception as e:\n",
    "                raise e\n",
    "            \n",
    "            self.valores = lista_de_valores\n",
    "    \n",
    "    def __repr__(self):\n",
    "        return (str(self.valores))\n",
    "    \n",
    "    def __len__(self):\n",
    "        return len(self.valores)\n",
    "    \n",
    "    def __abs__(self):\n",
    "        \"\"\"Retorna o valor absoluto do vetor\"\"\"\n",
    "\n",
    "        somatorio = 0\n",
    "\n",
    "        for componentes in self.valores:\n",
    "            somatorio += componentes**2\n",
    "        \n",
    "        valor_absoluto = round(pow(somatorio, (1/2)),4)\n",
    "        \n",
    "        return valor_absoluto\n",
    "    \n",
    "    def __add__(self, vetor):\n",
    "        \"\"\"Define a adição entre dois vetores\"\"\"\n",
    "\n",
    "        try:\n",
    "            vetor = Vetor(vetor)\n",
    "\n",
    "        except:\n",
    "            raise TypeError(\"Não é possível adicionar esse objeto a um vetor\")\n",
    "        \n",
    "        if len(vetor) == len(self):\n",
    "            pass\n",
    "        else:\n",
    "            raise ValueError(\"Os vetores devem ter mesmo tamanho.\")\n",
    "        \n",
    "        return Vetor([i+j for i,j in zip(vetor.valores, self.valores)])\n",
    "    \n",
    "    def __radd__(self, vetor):\n",
    "        return self + vetor\n",
    "    \n",
    "    def __sub__(self, vetor):\n",
    "        \"\"\"Define a subtração entre dois vetores\"\"\"\n",
    "        \n",
    "        try:\n",
    "            vetor = Vetor(vetor)\n",
    "\n",
    "        except:\n",
    "            raise TypeError(\"Não é possível adicionar esse objeto a um vetor\")\n",
    "        \n",
    "        if len(vetor) == len(self):\n",
    "            pass\n",
    "        else:\n",
    "            raise ValueError(\"Os vetores devem ter mesmo tamanho.\")\n",
    "        \n",
    "        return Vetor([j-i for i,j in zip(vetor.valores, self.valores)])\n",
    "    \n",
    "    def __rsub__(self, vetor):\n",
    "\n",
    "        try:\n",
    "            vetor = Vetor(vetor)\n",
    "\n",
    "        except:\n",
    "            raise TypeError(\"Não é possível adicionar esse objeto a um vetor\")\n",
    "        \n",
    "        if len(vetor) == len(self):\n",
    "            pass\n",
    "        else:\n",
    "            raise ValueError(\"Os vetores devem ter mesmo tamanho.\")\n",
    "        \n",
    "        return Vetor([i-j for i,j in zip(vetor.valores, self.valores)])\n",
    "    \n",
    "    def __rmul__(self, valor):\n",
    "        \"\"\"Define o produto escalar de um vetor por outro objeto.\"\"\"\n",
    "\n",
    "        try:\n",
    "            float(valor)\n",
    "        \n",
    "        except ValueError:\n",
    "            raise ValueError(f\"A multiplicação não pode ser feita com objetos do tipo {type(valor)}\")\n",
    "        \n",
    "        except TypeError:\n",
    "\n",
    "            new_vet = Vetor(valor)\n",
    "            novo_vetor = []\n",
    "\n",
    "            for index, _ in enumerate(self.valores):\n",
    "                \n",
    "                try:\n",
    "                    novo_vetor.append(new_vet.valores[index] * self.valores[index])\n",
    "                \n",
    "                except IndexError:\n",
    "                    novo_vetor.append(0)\n",
    "                    \n",
    "            return sum(novo_vetor)\n",
    "        \n",
    "        return sum([valor*i for i in self.valores])\n",
    "            \n",
    "    def __mul__(self, valor):\n",
    "        return self.__rmul__(valor)\n"
   ]
  },
  {
   "cell_type": "markdown",
   "metadata": {},
   "source": [
    "Como é uma classe bastante matemática, os ``__dunder__`` utilizados foram nesse sentido. Um ponto da definição dessa classe é que todo iterável que pode ser transformado em vetor internamente o é, de maneira que as operações podem ser realizadas com vetores já construídos ou com iteráveis.\n",
    "\n",
    "Define-se aqui alguns vetores:"
   ]
  },
  {
   "cell_type": "code",
   "execution_count": 2,
   "metadata": {},
   "outputs": [],
   "source": [
    "a = Vetor([1,2,3])\n",
    "b = Vetor([3,4,5])\n",
    "c = Vetor([0,1])"
   ]
  },
  {
   "cell_type": "markdown",
   "metadata": {},
   "source": [
    "Os métodos são:\n",
    "\n",
    "- ``__abs__``: método que mostra o valor absoluto de um número inteiro, foi modificado para mostrar a norma do vetor."
   ]
  },
  {
   "cell_type": "code",
   "execution_count": 3,
   "metadata": {},
   "outputs": [
    {
     "data": {
      "text/plain": [
       "3.7417"
      ]
     },
     "execution_count": 3,
     "metadata": {},
     "output_type": "execute_result"
    }
   ],
   "source": [
    "abs(a)"
   ]
  },
  {
   "cell_type": "markdown",
   "metadata": {},
   "source": [
    "- ``__add__``: método utilizado para somar, representa a soma entre vetores (ou iteráveis) de mesmo tamanho. Uma exceção é lançada quando tenta-se somar um vetor com um vetor de menor comprimento ou um escalar.\n",
    "- ``__radd__``: método para definir o que acontece quando se soma pela direita. Nesse caso, como a soma entre vetores é comutativa, esse método chama o método ``__add__``."
   ]
  },
  {
   "cell_type": "code",
   "execution_count": 4,
   "metadata": {},
   "outputs": [
    {
     "data": {
      "text/plain": [
       "[4, 6, 8]"
      ]
     },
     "execution_count": 4,
     "metadata": {},
     "output_type": "execute_result"
    }
   ],
   "source": [
    "a + b"
   ]
  },
  {
   "cell_type": "code",
   "execution_count": 5,
   "metadata": {},
   "outputs": [
    {
     "ename": "ValueError",
     "evalue": "Os vetores devem ter mesmo tamanho.",
     "output_type": "error",
     "traceback": [
      "\u001b[1;31m---------------------------------------------------------------------------\u001b[0m",
      "\u001b[1;31mValueError\u001b[0m                                Traceback (most recent call last)",
      "Cell \u001b[1;32mIn[5], line 1\u001b[0m\n\u001b[1;32m----> 1\u001b[0m \u001b[43ma\u001b[49m\u001b[43m \u001b[49m\u001b[38;5;241;43m+\u001b[39;49m\u001b[43m \u001b[49m\u001b[43mc\u001b[49m\n",
      "Cell \u001b[1;32mIn[1], line 48\u001b[0m, in \u001b[0;36mVetor.__add__\u001b[1;34m(self, vetor)\u001b[0m\n\u001b[0;32m     46\u001b[0m     \u001b[38;5;28;01mpass\u001b[39;00m\n\u001b[0;32m     47\u001b[0m \u001b[38;5;28;01melse\u001b[39;00m:\n\u001b[1;32m---> 48\u001b[0m     \u001b[38;5;28;01mraise\u001b[39;00m \u001b[38;5;167;01mValueError\u001b[39;00m(\u001b[38;5;124m\"\u001b[39m\u001b[38;5;124mOs vetores devem ter mesmo tamanho.\u001b[39m\u001b[38;5;124m\"\u001b[39m)\n\u001b[0;32m     50\u001b[0m \u001b[38;5;28;01mreturn\u001b[39;00m Vetor([i\u001b[38;5;241m+\u001b[39mj \u001b[38;5;28;01mfor\u001b[39;00m i,j \u001b[38;5;129;01min\u001b[39;00m \u001b[38;5;28mzip\u001b[39m(vetor\u001b[38;5;241m.\u001b[39mvalores, \u001b[38;5;28mself\u001b[39m\u001b[38;5;241m.\u001b[39mvalores)])\n",
      "\u001b[1;31mValueError\u001b[0m: Os vetores devem ter mesmo tamanho."
     ]
    }
   ],
   "source": [
    "a + c"
   ]
  },
  {
   "cell_type": "markdown",
   "metadata": {},
   "source": [
    "- ``__sub__``: método similar à adição, mas retorna a subtração: Vetor - objeto.\n",
    "- ``__rsub__``: como a subtração não é comutativa, retorna a subtração feita pelo lado direito, ou seja: objeto - Vetor."
   ]
  },
  {
   "cell_type": "code",
   "execution_count": 6,
   "metadata": {},
   "outputs": [
    {
     "data": {
      "text/plain": [
       "[0, 0, 1]"
      ]
     },
     "execution_count": 6,
     "metadata": {},
     "output_type": "execute_result"
    }
   ],
   "source": [
    "a - [1,2,2] # __sub__"
   ]
  },
  {
   "cell_type": "code",
   "execution_count": 7,
   "metadata": {},
   "outputs": [
    {
     "data": {
      "text/plain": [
       "[0, 0, -1]"
      ]
     },
     "execution_count": 7,
     "metadata": {},
     "output_type": "execute_result"
    }
   ],
   "source": [
    "[1,2,2] - a # __rsub__"
   ]
  },
  {
   "cell_type": "markdown",
   "metadata": {},
   "source": [
    "- ``__mul__``: método que representa a multiplicação, foi modificado para representar o produto escalar entre um vetor e um objeto numérico ou iterável. Joga uma exceção quando o objeto não pode ser multiplicado pelo vetor.\n",
    "- ``__rmul__``: assim como a adição, o produto escalar é comutativo, de maneira que esse método chama o método anterior."
   ]
  },
  {
   "cell_type": "code",
   "execution_count": 8,
   "metadata": {},
   "outputs": [
    {
     "name": "stdout",
     "output_type": "stream",
     "text": [
      "18 18 26\n"
     ]
    }
   ],
   "source": [
    "d = a * 3\n",
    "e = 3 * a\n",
    "f = a * b\n",
    "print(d, e, f)"
   ]
  },
  {
   "cell_type": "code",
   "execution_count": 9,
   "metadata": {},
   "outputs": [
    {
     "ename": "ValueError",
     "evalue": "A multiplicação não pode ser feita com objetos do tipo <class 'str'>",
     "output_type": "error",
     "traceback": [
      "\u001b[1;31m---------------------------------------------------------------------------\u001b[0m",
      "\u001b[1;31mValueError\u001b[0m                                Traceback (most recent call last)",
      "Cell \u001b[1;32mIn[1], line 90\u001b[0m, in \u001b[0;36mVetor.__rmul__\u001b[1;34m(self, valor)\u001b[0m\n\u001b[0;32m     89\u001b[0m \u001b[38;5;28;01mtry\u001b[39;00m:\n\u001b[1;32m---> 90\u001b[0m     \u001b[38;5;28;43mfloat\u001b[39;49m\u001b[43m(\u001b[49m\u001b[43mvalor\u001b[49m\u001b[43m)\u001b[49m\n\u001b[0;32m     92\u001b[0m \u001b[38;5;28;01mexcept\u001b[39;00m \u001b[38;5;167;01mValueError\u001b[39;00m:\n",
      "\u001b[1;31mValueError\u001b[0m: could not convert string to float: 'a'",
      "\nDuring handling of the above exception, another exception occurred:\n",
      "\u001b[1;31mValueError\u001b[0m                                Traceback (most recent call last)",
      "Cell \u001b[1;32mIn[9], line 1\u001b[0m\n\u001b[1;32m----> 1\u001b[0m \u001b[43ma\u001b[49m\u001b[43m \u001b[49m\u001b[38;5;241;43m*\u001b[39;49m\u001b[43m \u001b[49m\u001b[38;5;124;43m\"\u001b[39;49m\u001b[38;5;124;43ma\u001b[39;49m\u001b[38;5;124;43m\"\u001b[39;49m\n",
      "Cell \u001b[1;32mIn[1], line 113\u001b[0m, in \u001b[0;36mVetor.__mul__\u001b[1;34m(self, valor)\u001b[0m\n\u001b[0;32m    112\u001b[0m \u001b[38;5;28;01mdef\u001b[39;00m \u001b[38;5;21m__mul__\u001b[39m(\u001b[38;5;28mself\u001b[39m, valor):\n\u001b[1;32m--> 113\u001b[0m     \u001b[38;5;28;01mreturn\u001b[39;00m \u001b[38;5;28;43mself\u001b[39;49m\u001b[38;5;241;43m.\u001b[39;49m\u001b[38;5;21;43m__rmul__\u001b[39;49m\u001b[43m(\u001b[49m\u001b[43mvalor\u001b[49m\u001b[43m)\u001b[49m\n",
      "Cell \u001b[1;32mIn[1], line 93\u001b[0m, in \u001b[0;36mVetor.__rmul__\u001b[1;34m(self, valor)\u001b[0m\n\u001b[0;32m     90\u001b[0m     \u001b[38;5;28mfloat\u001b[39m(valor)\n\u001b[0;32m     92\u001b[0m \u001b[38;5;28;01mexcept\u001b[39;00m \u001b[38;5;167;01mValueError\u001b[39;00m:\n\u001b[1;32m---> 93\u001b[0m     \u001b[38;5;28;01mraise\u001b[39;00m \u001b[38;5;167;01mValueError\u001b[39;00m(\u001b[38;5;124mf\u001b[39m\u001b[38;5;124m\"\u001b[39m\u001b[38;5;124mA multiplicação não pode ser feita com objetos do tipo \u001b[39m\u001b[38;5;132;01m{\u001b[39;00m\u001b[38;5;28mtype\u001b[39m(valor)\u001b[38;5;132;01m}\u001b[39;00m\u001b[38;5;124m\"\u001b[39m)\n\u001b[0;32m     95\u001b[0m \u001b[38;5;28;01mexcept\u001b[39;00m \u001b[38;5;167;01mTypeError\u001b[39;00m:\n\u001b[0;32m     97\u001b[0m     new_vet \u001b[38;5;241m=\u001b[39m Vetor(valor)\n",
      "\u001b[1;31mValueError\u001b[0m: A multiplicação não pode ser feita com objetos do tipo <class 'str'>"
     ]
    }
   ],
   "source": [
    "a * \"a\""
   ]
  },
  {
   "cell_type": "markdown",
   "metadata": {},
   "source": [
    "Foi possível conhecer mais métodos especiais em python, e pude também conhecer métodos que \"guardam lugar\" para implementações, como é o caso do ``__matmul__`` e do operador \"@\" [1]. No futuro, seria interessante usá-lo para implementar o produto vetorial entre vetores."
   ]
  },
  {
   "cell_type": "markdown",
   "metadata": {},
   "source": [
    "**Referências:**\n",
    "\n",
    "[1] HUNNER, Trey. Arithmetic Dunder Methods - Python Morsels. Disponível em: <https://www.pythonmorsels.com/arithmetic-dunder-methods/>. Acesso em: 17 mar. 2025."
   ]
  }
 ],
 "metadata": {
  "kernelspec": {
   "display_name": "Python 3",
   "language": "python",
   "name": "python3"
  },
  "language_info": {
   "codemirror_mode": {
    "name": "ipython",
    "version": 3
   },
   "file_extension": ".py",
   "mimetype": "text/x-python",
   "name": "python",
   "nbconvert_exporter": "python",
   "pygments_lexer": "ipython3",
   "version": "3.11.6"
  }
 },
 "nbformat": 4,
 "nbformat_minor": 2
}
